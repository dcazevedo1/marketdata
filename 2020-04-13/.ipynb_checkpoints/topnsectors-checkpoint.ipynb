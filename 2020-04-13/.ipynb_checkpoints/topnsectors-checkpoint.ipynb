{
 "cells": [
  {
   "cell_type": "code",
   "execution_count": null,
   "metadata": {},
   "outputs": [],
   "source": [
    "pip install alpha_vantage"
   ]
  },
  {
   "cell_type": "code",
   "execution_count": 7,
   "metadata": {},
   "outputs": [],
   "source": [
    "import pandas as pd"
   ]
  },
  {
   "cell_type": "code",
   "execution_count": 28,
   "metadata": {},
   "outputs": [],
   "source": [
    "from alpha_vantage.timeseries import TimeSeries\n"
   ]
  },
  {
   "cell_type": "code",
   "execution_count": 29,
   "metadata": {},
   "outputs": [],
   "source": [
    "with open(\"key.cred\", \"r\") as cred_file:\n",
    "    for line in cred_file:\n",
    "        api_key = line.split(\"=\")[1]\n"
   ]
  },
  {
   "cell_type": "code",
   "execution_count": 30,
   "metadata": {},
   "outputs": [],
   "source": [
    "list_companies = ['AAPL','MSFT','AMZN','FB','BRK.B','JNJ','GOOG','JPM','V','PG']\n"
   ]
  },
  {
   "cell_type": "code",
   "execution_count": 31,
   "metadata": {},
   "outputs": [],
   "source": [
    "# Chose your output format, or default to JSON (python dict)\n",
    "ts = TimeSeries(api_key, output_format='pandas')\n"
   ]
  },
  {
   "cell_type": "code",
   "execution_count": 32,
   "metadata": {},
   "outputs": [
    {
     "data": {
      "text/plain": [
       "<alpha_vantage.timeseries.TimeSeries at 0x22b01613bc8>"
      ]
     },
     "execution_count": 32,
     "metadata": {},
     "output_type": "execute_result"
    }
   ],
   "source": [
    "ts"
   ]
  },
  {
   "cell_type": "code",
   "execution_count": 33,
   "metadata": {},
   "outputs": [],
   "source": [
    "data, metadata = ts.get_monthly(symbol=\"GOOG\")\n"
   ]
  },
  {
   "cell_type": "code",
   "execution_count": 34,
   "metadata": {},
   "outputs": [
    {
     "data": {
      "text/html": [
       "<div>\n",
       "<style scoped>\n",
       "    .dataframe tbody tr th:only-of-type {\n",
       "        vertical-align: middle;\n",
       "    }\n",
       "\n",
       "    .dataframe tbody tr th {\n",
       "        vertical-align: top;\n",
       "    }\n",
       "\n",
       "    .dataframe thead th {\n",
       "        text-align: right;\n",
       "    }\n",
       "</style>\n",
       "<table border=\"1\" class=\"dataframe\">\n",
       "  <thead>\n",
       "    <tr style=\"text-align: right;\">\n",
       "      <th></th>\n",
       "      <th>1. open</th>\n",
       "      <th>2. high</th>\n",
       "      <th>3. low</th>\n",
       "      <th>4. close</th>\n",
       "      <th>5. volume</th>\n",
       "    </tr>\n",
       "    <tr>\n",
       "      <th>date</th>\n",
       "      <th></th>\n",
       "      <th></th>\n",
       "      <th></th>\n",
       "      <th></th>\n",
       "      <th></th>\n",
       "    </tr>\n",
       "  </thead>\n",
       "  <tbody>\n",
       "    <tr>\n",
       "      <td>2020-04-13</td>\n",
       "      <td>1122.00</td>\n",
       "      <td>1225.57</td>\n",
       "      <td>1079.81</td>\n",
       "      <td>1217.56</td>\n",
       "      <td>17555788.0</td>\n",
       "    </tr>\n",
       "    <tr>\n",
       "      <td>2020-03-31</td>\n",
       "      <td>1351.61</td>\n",
       "      <td>1410.15</td>\n",
       "      <td>1013.54</td>\n",
       "      <td>1162.81</td>\n",
       "      <td>71398419.0</td>\n",
       "    </tr>\n",
       "    <tr>\n",
       "      <td>2020-02-28</td>\n",
       "      <td>1462.00</td>\n",
       "      <td>1532.11</td>\n",
       "      <td>1271.00</td>\n",
       "      <td>1339.33</td>\n",
       "      <td>37103140.0</td>\n",
       "    </tr>\n",
       "    <tr>\n",
       "      <td>2020-01-31</td>\n",
       "      <td>1341.55</td>\n",
       "      <td>1503.21</td>\n",
       "      <td>1341.55</td>\n",
       "      <td>1434.23</td>\n",
       "      <td>33406912.0</td>\n",
       "    </tr>\n",
       "    <tr>\n",
       "      <td>2019-12-31</td>\n",
       "      <td>1301.00</td>\n",
       "      <td>1365.00</td>\n",
       "      <td>1279.00</td>\n",
       "      <td>1337.02</td>\n",
       "      <td>27627707.0</td>\n",
       "    </tr>\n",
       "    <tr>\n",
       "      <td>...</td>\n",
       "      <td>...</td>\n",
       "      <td>...</td>\n",
       "      <td>...</td>\n",
       "      <td>...</td>\n",
       "      <td>...</td>\n",
       "    </tr>\n",
       "    <tr>\n",
       "      <td>2014-08-29</td>\n",
       "      <td>570.40</td>\n",
       "      <td>587.34</td>\n",
       "      <td>560.00</td>\n",
       "      <td>571.60</td>\n",
       "      <td>27586000.0</td>\n",
       "    </tr>\n",
       "    <tr>\n",
       "      <td>2014-07-31</td>\n",
       "      <td>578.32</td>\n",
       "      <td>599.65</td>\n",
       "      <td>565.01</td>\n",
       "      <td>571.60</td>\n",
       "      <td>34516100.0</td>\n",
       "    </tr>\n",
       "    <tr>\n",
       "      <td>2014-06-30</td>\n",
       "      <td>560.70</td>\n",
       "      <td>582.45</td>\n",
       "      <td>538.75</td>\n",
       "      <td>575.28</td>\n",
       "      <td>37898400.0</td>\n",
       "    </tr>\n",
       "    <tr>\n",
       "      <td>2014-05-30</td>\n",
       "      <td>527.11</td>\n",
       "      <td>567.84</td>\n",
       "      <td>503.30</td>\n",
       "      <td>559.89</td>\n",
       "      <td>36527700.0</td>\n",
       "    </tr>\n",
       "    <tr>\n",
       "      <td>2014-04-30</td>\n",
       "      <td>558.71</td>\n",
       "      <td>604.83</td>\n",
       "      <td>502.80</td>\n",
       "      <td>526.66</td>\n",
       "      <td>67171200.0</td>\n",
       "    </tr>\n",
       "  </tbody>\n",
       "</table>\n",
       "<p>73 rows × 5 columns</p>\n",
       "</div>"
      ],
      "text/plain": [
       "            1. open  2. high   3. low  4. close   5. volume\n",
       "date                                                       \n",
       "2020-04-13  1122.00  1225.57  1079.81   1217.56  17555788.0\n",
       "2020-03-31  1351.61  1410.15  1013.54   1162.81  71398419.0\n",
       "2020-02-28  1462.00  1532.11  1271.00   1339.33  37103140.0\n",
       "2020-01-31  1341.55  1503.21  1341.55   1434.23  33406912.0\n",
       "2019-12-31  1301.00  1365.00  1279.00   1337.02  27627707.0\n",
       "...             ...      ...      ...       ...         ...\n",
       "2014-08-29   570.40   587.34   560.00    571.60  27586000.0\n",
       "2014-07-31   578.32   599.65   565.01    571.60  34516100.0\n",
       "2014-06-30   560.70   582.45   538.75    575.28  37898400.0\n",
       "2014-05-30   527.11   567.84   503.30    559.89  36527700.0\n",
       "2014-04-30   558.71   604.83   502.80    526.66  67171200.0\n",
       "\n",
       "[73 rows x 5 columns]"
      ]
     },
     "execution_count": 34,
     "metadata": {},
     "output_type": "execute_result"
    }
   ],
   "source": [
    "data"
   ]
  },
  {
   "cell_type": "code",
   "execution_count": 35,
   "metadata": {},
   "outputs": [
    {
     "data": {
      "text/plain": [
       "date\n",
       "2020-04-13    1217.56\n",
       "2020-03-31    1162.81\n",
       "2020-02-28    1339.33\n",
       "2020-01-31    1434.23\n",
       "2019-12-31    1337.02\n",
       "               ...   \n",
       "2014-08-29     571.60\n",
       "2014-07-31     571.60\n",
       "2014-06-30     575.28\n",
       "2014-05-30     559.89\n",
       "2014-04-30     526.66\n",
       "Name: 4. close, Length: 73, dtype: float64"
      ]
     },
     "execution_count": 35,
     "metadata": {},
     "output_type": "execute_result"
    }
   ],
   "source": [
    "data['4. close']"
   ]
  },
  {
   "cell_type": "code",
   "execution_count": 36,
   "metadata": {},
   "outputs": [
    {
     "data": {
      "text/plain": [
       "pandas.core.series.Series"
      ]
     },
     "execution_count": 36,
     "metadata": {},
     "output_type": "execute_result"
    }
   ],
   "source": [
    "type(data['4. close'])\n"
   ]
  },
  {
   "cell_type": "code",
   "execution_count": 37,
   "metadata": {},
   "outputs": [],
   "source": [
    "data2=pd.DataFrame(data['4. close'])\n"
   ]
  },
  {
   "cell_type": "code",
   "execution_count": 38,
   "metadata": {},
   "outputs": [
    {
     "data": {
      "text/html": [
       "<div>\n",
       "<style scoped>\n",
       "    .dataframe tbody tr th:only-of-type {\n",
       "        vertical-align: middle;\n",
       "    }\n",
       "\n",
       "    .dataframe tbody tr th {\n",
       "        vertical-align: top;\n",
       "    }\n",
       "\n",
       "    .dataframe thead th {\n",
       "        text-align: right;\n",
       "    }\n",
       "</style>\n",
       "<table border=\"1\" class=\"dataframe\">\n",
       "  <thead>\n",
       "    <tr style=\"text-align: right;\">\n",
       "      <th></th>\n",
       "      <th>GOOG</th>\n",
       "    </tr>\n",
       "    <tr>\n",
       "      <th>date</th>\n",
       "      <th></th>\n",
       "    </tr>\n",
       "  </thead>\n",
       "  <tbody>\n",
       "    <tr>\n",
       "      <td>2020-04-13</td>\n",
       "      <td>1217.56</td>\n",
       "    </tr>\n",
       "    <tr>\n",
       "      <td>2020-03-31</td>\n",
       "      <td>1162.81</td>\n",
       "    </tr>\n",
       "    <tr>\n",
       "      <td>2020-02-28</td>\n",
       "      <td>1339.33</td>\n",
       "    </tr>\n",
       "    <tr>\n",
       "      <td>2020-01-31</td>\n",
       "      <td>1434.23</td>\n",
       "    </tr>\n",
       "    <tr>\n",
       "      <td>2019-12-31</td>\n",
       "      <td>1337.02</td>\n",
       "    </tr>\n",
       "    <tr>\n",
       "      <td>...</td>\n",
       "      <td>...</td>\n",
       "    </tr>\n",
       "    <tr>\n",
       "      <td>2014-08-29</td>\n",
       "      <td>571.60</td>\n",
       "    </tr>\n",
       "    <tr>\n",
       "      <td>2014-07-31</td>\n",
       "      <td>571.60</td>\n",
       "    </tr>\n",
       "    <tr>\n",
       "      <td>2014-06-30</td>\n",
       "      <td>575.28</td>\n",
       "    </tr>\n",
       "    <tr>\n",
       "      <td>2014-05-30</td>\n",
       "      <td>559.89</td>\n",
       "    </tr>\n",
       "    <tr>\n",
       "      <td>2014-04-30</td>\n",
       "      <td>526.66</td>\n",
       "    </tr>\n",
       "  </tbody>\n",
       "</table>\n",
       "<p>73 rows × 1 columns</p>\n",
       "</div>"
      ],
      "text/plain": [
       "               GOOG\n",
       "date               \n",
       "2020-04-13  1217.56\n",
       "2020-03-31  1162.81\n",
       "2020-02-28  1339.33\n",
       "2020-01-31  1434.23\n",
       "2019-12-31  1337.02\n",
       "...             ...\n",
       "2014-08-29   571.60\n",
       "2014-07-31   571.60\n",
       "2014-06-30   575.28\n",
       "2014-05-30   559.89\n",
       "2014-04-30   526.66\n",
       "\n",
       "[73 rows x 1 columns]"
      ]
     },
     "execution_count": 38,
     "metadata": {},
     "output_type": "execute_result"
    }
   ],
   "source": [
    "data2.rename(columns = {'4. close':'GOOG'}, inplace = True)\n",
    "data2\n"
   ]
  },
  {
   "cell_type": "code",
   "execution_count": null,
   "metadata": {},
   "outputs": [],
   "source": [
    "for i in list_companies:\n",
    "    data, metadata = ts.get_monthly(symbol=i)\n",
    "    "
   ]
  }
 ],
 "metadata": {
  "kernelspec": {
   "display_name": "Python 3",
   "language": "python",
   "name": "python3"
  },
  "language_info": {
   "codemirror_mode": {
    "name": "ipython",
    "version": 3
   },
   "file_extension": ".py",
   "mimetype": "text/x-python",
   "name": "python",
   "nbconvert_exporter": "python",
   "pygments_lexer": "ipython3",
   "version": "3.7.4"
  }
 },
 "nbformat": 4,
 "nbformat_minor": 2
}
